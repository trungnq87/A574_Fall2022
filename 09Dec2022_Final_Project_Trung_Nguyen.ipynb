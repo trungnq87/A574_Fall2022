{
 "cells": [
  {
   "cell_type": "markdown",
   "id": "da6ee498-9984-4e86-ab10-4e84536b203a",
   "metadata": {},
   "source": [
    "Course: <span style=\"color:crimson\"> Current and Future Trends in Extreme Weather </span> (EAS-G574 - Indiana University - Fall 2022) <br />\n",
    "Instructor: <span style=\"color:crimson\"> Prof. Travis O'Brien </span> <br />\n",
    "Student: Trung Nguyen\n",
    "<p style=\"text-align: center;\">\n",
    "<span style=\"color:blue; font-size:1.5em\"> GRAD MAJOR ASSIGNMENT </span> <br />\n",
    "<span style=\"color:black; font-size:1.5em\"> Contextualizing Extremes in the Media </span> <br />\n",
    "Due: Thu Dec 15, 2022 2:40pm <br />\n",
    "</p>"
   ]
  },
  {
   "cell_type": "markdown",
   "id": "c81a09b2-df1a-4c38-9279-cd07e38000da",
   "metadata": {},
   "source": [
    "**<span style=\"color:crimson\">  The goal : </span>**\n",
    "<p style=\"text-align: justify;\"> \n",
    "This jupyter notebook accompanies the website that conveys the information on the extreme heavy rainfall event on June 2021 in Bloomington (Indiana). \n",
    "Specifically, this notebook presents a data analysis of RX2day, using a maximum likelihood non-stationary GEV approach, in which the actual analysis code is combined with discussion of the approach.\n",
    "Although the target audiences for this notebook are climate scientists who are familiar with the GEV approach, the author hope that this notebook will be enjoyable for any reader, to some extent.\n",
    "</p>"
   ]
  },
  {
   "cell_type": "markdown",
   "id": "4c7808c5-94cb-4d9d-a5cb-ece3c204bae4",
   "metadata": {},
   "source": [
    "<span style=\"color:blue; font-size:1.5em\"> **0. Getting set up** </span>  <br />\n",
    "* All python libraries and self-written functions are \"imported\" in the cell #1 below."
   ]
  },
  {
   "cell_type": "code",
   "execution_count": null,
   "id": "108ee39a-258f-43e9-8990-807c0c55ba5a",
   "metadata": {},
   "outputs": [],
   "source": [
    "# \"Classical\" numpy and matplotlib:\n",
    "import numpy as np\n",
    "import matplotlib.pyplot as plt\n",
    "\n",
    "# All of my GEV functions written are stored in gev_functions.py\n",
    "import gev_functions\n",
    "\n",
    "# Use scipy.genextreme to verify at some steps\n",
    "from scipy.stats import genextreme\n",
    "\n",
    "# Use scipy.optimize.minimize() for question #4\n",
    "from scipy.optimize import minimize\n",
    "\n",
    "# Use csv reader from pandas for reading data of question #5\n",
    "import pandas as pd\n",
    "\n",
    "# For add the KDE to plot\n",
    "from scipy import stats"
   ]
  },
  {
   "cell_type": "markdown",
   "id": "0d324622-a822-4b4e-87f8-c1f89b472b4b",
   "metadata": {},
   "source": [
    "<span style=\"color:blue; font-size:1.5em\"> **1. First-look of RX2day data**  </span>  <br />\n",
    "* **(1)** Load and plot the csv data in /home/data/bloomington_rx2day.csv\n",
    "* **Figure ** and **Figure ** show these plots."
   ]
  },
  {
   "cell_type": "code",
   "execution_count": null,
   "id": "3b3af5a0-ca5e-4224-9a7c-fed6b5c18238",
   "metadata": {},
   "outputs": [],
   "source": [
    "# Load RX2day data (provided by Prof. Travis)\n",
    "df = pd.read_csv('/home/data/bloomington_rx2day.csv',header=0)\n",
    "print (df)\n",
    "\n",
    "# Get #Year and #Rx7day as time (t) and variable (x)\n",
    "t = df['#Year'].values\n",
    "x = df['Rx2day [in]'].values\n",
    "\n",
    "# Try simple linear trendline\n",
    "z = np.polyfit(t, x, 1)\n",
    "p = np.poly1d(z)\n",
    "\n",
    "# Try to add KDE\n",
    "kde = stats.gaussian_kde(x)\n",
    "xx = np.linspace(np.nanmin(x), np.nanmax(x), 100)\n",
    "\n",
    "# Plot the CSV data\n",
    "plt.figure (figsize=(10,5))\n",
    "plt.plot(t, x, color='crimson',label='Rx7day')\n",
    "# Add trendline to plot\n",
    "plt.plot(t, p(t),label='Linear trend line')\n",
    "# Decoration\n",
    "plt.xlabel('Year')\n",
    "plt.ylabel('Rx7day (mm)')\n",
    "plt.legend()\n",
    "caption='Figure 1. Timeseries of RX2day data in Bloomington, Indiana.'\n",
    "plt.figtext(0.5, -0.05, caption, wrap=True, horizontalalignment='center', fontsize=12)\n",
    "plt.show()\n",
    "\n",
    "# Plot a PDF of the Rx7day values\n",
    "mybins=np.arange(0,9,1)\n",
    "plt.hist(x, density=True, bins=mybins)\n",
    "plt.plot(xx, kde(xx), label=\"KDE\")\n",
    "plt.ylabel('Density')\n",
    "plt.xlabel('Rx7day (mm)')\n",
    "plt.legend()\n",
    "caption='Figure 9. Histogram and kernel-density estimate (KDE) of Rx7day data from Risser et al., (2017)'\n",
    "plt.figtext(0.5, -0.05, caption, wrap=True, horizontalalignment='center', fontsize=12)\n",
    "plt.show()"
   ]
  },
  {
   "cell_type": "markdown",
   "id": "eb8e87ab-6de9-49dd-8936-e79d3bfa63c1",
   "metadata": {},
   "source": [
    "<span style=\"color:blue; font-size:1.2em\"> **References**  </span>  <br />\n",
    "* El Adlouni, S., Ouarda, T.B., Zhang, X., Roy, R. and Bobée, B., 2007. Generalized maximum likelihood estimators for the nonstationary generalized extreme value model. Water Resources Research, 43(3).\n",
    "* Gilleland, E., & Katz, R. W. 2016. extRemes 2.0: An Extreme Value Analysis Package in R. Journal of Statistical Software, 72(8), 1–39. https://doi.org/10.18637/jss.v072.i08\n",
    "* Zhang, L. and Shaby, B.A., 2022. Uniqueness and global optimality of the maximum likelihood estimator for the generalized extreme value distribution. Biometrika, 109(3), pp.853-864.\n",
    "\n",
    "<span style=\"color:blue; font-size:1.2em\"> **Appendix**  </span>  <br />\n",
    "A plot of estimated PDF to compare with histogram of data from Risser et al., (2017)"
   ]
  }
 ],
 "metadata": {
  "kernelspec": {
   "display_name": "Python 3 (ipykernel)",
   "language": "python",
   "name": "python3"
  },
  "language_info": {
   "codemirror_mode": {
    "name": "ipython",
    "version": 3
   },
   "file_extension": ".py",
   "mimetype": "text/x-python",
   "name": "python",
   "nbconvert_exporter": "python",
   "pygments_lexer": "ipython3",
   "version": "3.9.7"
  }
 },
 "nbformat": 4,
 "nbformat_minor": 5
}
